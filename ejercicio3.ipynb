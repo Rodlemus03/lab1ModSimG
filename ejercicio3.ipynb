{
 "cells": [
  {
   "cell_type": "markdown",
   "id": "36c6929e",
   "metadata": {},
   "source": [
    "1. Implemente ambos métodos para:\n",
    "a. Modelo de crecimiento logístico\n",
    "b. Parámetros: r=0.1, K=1000, x₀=10\n",
    "c. Horizonte de tiempo: 100 unidades"
   ]
  },
  {
   "cell_type": "code",
   "execution_count": 2,
   "id": "de8da664",
   "metadata": {},
   "outputs": [],
   "source": [
    "import numpy as np\n",
    "import time\n",
    "import pandas as pd\n",
    "\n",
    "r = 0.1\n",
    "K = 1000\n",
    "x0 = 10\n",
    "T = 100\n",
    "\n",
    "def f(x):\n",
    "    return r * x * (1 - x / K)\n",
    "\n",
    "def analisis(t):\n",
    "    return K / (1 + ((K - x0) / x0) * np.exp(-r * t))\n",
    "\n",
    "def metodoEuler(dt):\n",
    "    steps = int(T / dt)\n",
    "    x = x0\n",
    "    trayectoria = [x]\n",
    "    for _ in range(steps):\n",
    "        x = x + dt * f(x)\n",
    "        trayectoria.append(x)\n",
    "    return np.array(trayectoria)\n",
    "\n",
    "def metodoRK4(dt):\n",
    "    steps = int(T / dt)\n",
    "    x = x0\n",
    "    trayectoria = [x]\n",
    "    for _ in range(steps):\n",
    "        k1 = f(x)\n",
    "        k2 = f(x + 0.5 * dt * k1)\n",
    "        k3 = f(x + 0.5 * dt * k2)\n",
    "        k4 = f(x + dt * k3)\n",
    "        x = x + dt * (k1 + 2*k2 + 2*k3 + k4) / 6\n",
    "        trayectoria.append(x)\n",
    "    return np.array(trayectoria)"
   ]
  },
  {
   "cell_type": "markdown",
   "id": "9c6083e6",
   "metadata": {},
   "source": [
    "2. Analice y compare\n",
    "a. Error relativo en t=50 para Δt=1.0\n",
    "b. Threshold entre tiempo de cómputo y precisión\n",
    "c. Estabilidad con Δt grandes (>5.0"
   ]
  },
  {
   "cell_type": "code",
   "execution_count": null,
   "id": "aae70f2d",
   "metadata": {},
   "outputs": [
    {
     "name": "stdout",
     "output_type": "stream",
     "text": [
      " Resultados Métodos (t=50)\n",
      "  Δt  Error Euler (%)  Error RK4 (%)  Tiempo Euler (s)  Tiempo RK4 (s)  Estable Euler  Estable RK4\n",
      " 0.1         0.639010   8.577765e-09          0.000494        0.001445           True         True\n",
      " 0.5         3.215440   5.214870e-06          0.000103        0.000314           True         True\n",
      " 1.0         6.470342   8.061105e-05          0.000044        0.000137           True         True\n",
      " 2.0        13.017240   1.204259e-03          0.000023        0.000071           True         True\n",
      " 5.0        31.559292   3.840605e-02          0.000011        0.000029           True         True\n",
      "10.0        54.152661   4.447222e-01          0.000007        0.000016           True         True\n",
      "Error a t=50 para Δt=1.0 → Euler: 6.47%, RK4: 0.00008%\n",
      "Estabilidad para Δt > 5.0:\n",
      "  Δt  Estable Euler  Estable RK4\n",
      "10.0           True         True\n"
     ]
    }
   ],
   "source": [
    "dt_list = [0.1, 0.5, 1.0, 2.0, 5.0, 10.0]\n",
    "results = []\n",
    "\n",
    "for dt in dt_list:\n",
    "    idx50 = int(50 / dt)\n",
    "\n",
    "    start = time.perf_counter()\n",
    "    traj_e = metodoEuler(dt)\n",
    "    t_e = time.perf_counter() - start\n",
    "\n",
    "    start = time.perf_counter()\n",
    "    traj_r = metodoRK4(dt)\n",
    "    t_r = time.perf_counter() - start\n",
    "\n",
    "    x50_true = analisis(50)\n",
    "\n",
    "    err_e = abs(traj_e[idx50] - x50_true) / x50_true * 100\n",
    "    err_r = abs(traj_r[idx50] - x50_true) / x50_true * 100\n",
    "\n",
    "    stable_e = traj_e.min() >= 0 and traj_e.max() <= 1.1 * K\n",
    "    stable_r = traj_r.min() >= 0 and traj_r.max() <= 1.1 * K\n",
    "\n",
    "    results.append({\n",
    "        'Δt': dt,\n",
    "        'Error Euler (%)': err_e,\n",
    "        'Error RK4 (%)': err_r,\n",
    "        'Tiempo Euler (s)': t_e,\n",
    "        'Tiempo RK4 (s)': t_r,\n",
    "        'Estable Euler': stable_e,\n",
    "        'Estable RK4': stable_r\n",
    "    })\n",
    "\n",
    "df = pd.DataFrame(results)\n",
    "print(\" Resultados Métodos (t=50)\")\n",
    "print(df.to_string(index=False))\n",
    "\n",
    "row_dt1 = df[df['Δt'] == 1.0].iloc[0]\n",
    "print(f\"Error a t=50 para Δt=1.0 -> Euler: {row_dt1['Error Euler (%)']:.2f}%, RK4: {row_dt1['Error RK4 (%)']:.5f}%\")\n",
    "\n",
    "large_dt = df[df['Δt'] > 5.0]\n",
    "print(\"Estabilidad para Δt > 5.0:\")\n",
    "print(large_dt[['Δt', 'Estable Euler', 'Estable RK4']].to_string(index=False))"
   ]
  },
  {
   "cell_type": "markdown",
   "id": "c1a7474c",
   "metadata": {},
   "source": [
    "3. Considere y responda:\n",
    "\n",
    "a. ¿Qué método mantiene mejor la estabilidad?\n",
    "\n",
    "Según las estadísticas RK4\n",
    "\n",
    "b. ¿Cómo escala el error con Δt en cada método?\n",
    "\n",
    "Euler: O(Δt) y RK4: O(Δt^4) \n",
    "\n",
    "c. ¿Cuándo convendría elegir Euler en lugar de RK4?\n",
    "\n",
    "Cuando se quiere algo más simple, rápido o/con pocos recursos"
   ]
  }
 ],
 "metadata": {
  "kernelspec": {
   "display_name": "Python 3",
   "language": "python",
   "name": "python3"
  },
  "language_info": {
   "codemirror_mode": {
    "name": "ipython",
    "version": 3
   },
   "file_extension": ".py",
   "mimetype": "text/x-python",
   "name": "python",
   "nbconvert_exporter": "python",
   "pygments_lexer": "ipython3",
   "version": "3.11.3"
  }
 },
 "nbformat": 4,
 "nbformat_minor": 5
}
